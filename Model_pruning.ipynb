{
  "nbformat": 4,
  "nbformat_minor": 0,
  "metadata": {
    "colab": {
      "name": "Model_pruning.ipynb",
      "provenance": [],
      "authorship_tag": "ABX9TyPRqXUqfc3may2BGGnUYbUc",
      "include_colab_link": true
    },
    "kernelspec": {
      "name": "python3",
      "display_name": "Python 3"
    },
    "accelerator": "TPU"
  },
  "cells": [
    {
      "cell_type": "markdown",
      "metadata": {
        "id": "view-in-github",
        "colab_type": "text"
      },
      "source": [
        "<a href=\"https://colab.research.google.com/github/RVT123123/Model-Prunning/blob/main/Model_pruning.ipynb\" target=\"_parent\"><img src=\"https://colab.research.google.com/assets/colab-badge.svg\" alt=\"Open In Colab\"/></a>"
      ]
    },
    {
      "cell_type": "code",
      "metadata": {
        "id": "qeW3RXEFAHE_"
      },
      "source": [
        "import keras"
      ],
      "execution_count": 1,
      "outputs": []
    },
    {
      "cell_type": "code",
      "metadata": {
        "id": "Yhw8F2XdWgsB"
      },
      "source": [
        "import tensorflow as tf"
      ],
      "execution_count": 43,
      "outputs": []
    },
    {
      "cell_type": "code",
      "metadata": {
        "id": "z5hV6DxWAMm9"
      },
      "source": [
        "import numpy as np\n",
        "import pandas as pd\n",
        "from keras.models import Sequential\n",
        "from keras.layers import Dense, Dropout, Activation, Flatten, Add\n",
        "from keras.layers import Convolution2D, MaxPooling2D\n",
        "from keras.utils import np_utils\n",
        "\n",
        "from keras.datasets import mnist"
      ],
      "execution_count": 2,
      "outputs": []
    },
    {
      "cell_type": "code",
      "metadata": {
        "id": "ZLOJiPH0AQil",
        "outputId": "b239fe53-fd55-47af-8bc8-2337b1c6e83c",
        "colab": {
          "base_uri": "https://localhost:8080/",
          "height": 54
        }
      },
      "source": [
        "(X_train, y_train), (X_test, y_test) = mnist.load_data()"
      ],
      "execution_count": 3,
      "outputs": [
        {
          "output_type": "stream",
          "text": [
            "Downloading data from https://storage.googleapis.com/tensorflow/tf-keras-datasets/mnist.npz\n",
            "11493376/11490434 [==============================] - 0s 0us/step\n"
          ],
          "name": "stdout"
        }
      ]
    },
    {
      "cell_type": "code",
      "metadata": {
        "id": "GcenMm-QAWJ_",
        "outputId": "527b8ff1-7791-42cd-bf96-266a35155aec",
        "colab": {
          "base_uri": "https://localhost:8080/",
          "height": 302
        }
      },
      "source": [
        "print (X_train.shape)\n",
        "from matplotlib import pyplot as plt\n",
        "%matplotlib inline\n",
        "plt.imshow(X_train[1])"
      ],
      "execution_count": 4,
      "outputs": [
        {
          "output_type": "stream",
          "text": [
            "(60000, 28, 28)\n"
          ],
          "name": "stdout"
        },
        {
          "output_type": "execute_result",
          "data": {
            "text/plain": [
              "<matplotlib.image.AxesImage at 0x7fd5de3a1a58>"
            ]
          },
          "metadata": {
            "tags": []
          },
          "execution_count": 4
        },
        {
          "output_type": "display_data",
          "data": {
            "image/png": "[encoded data removed]",
            "text/plain": [
              "<Figure size 432x288 with 1 Axes>"
            ]
          },
          "metadata": {
            "tags": [],
            "needs_background": "light"
          }
        }
      ]
    },
    {
      "cell_type": "code",
      "metadata": {
        "id": "lw5YaH6PAb_V"
      },
      "source": [
        "X_train = X_train.reshape(X_train.shape[0], 28, 28,1)\n",
        "X_test = X_test.reshape(X_test.shape[0], 28, 28,1)"
      ],
      "execution_count": 5,
      "outputs": []
    },
    {
      "cell_type": "code",
      "metadata": {
        "id": "yIoqd3FXAgeG"
      },
      "source": [
        "X_train = X_train.astype('float32')\n",
        "X_test = X_test.astype('float32')\n",
        "X_train /= 255\n",
        "X_test /= 255"
      ],
      "execution_count": 6,
      "outputs": []
    },
    {
      "cell_type": "code",
      "metadata": {
        "id": "JYds49jOAnJD",
        "outputId": "5a30e6c5-5fea-4d9b-f32f-3422954dce80",
        "colab": {
          "base_uri": "https://localhost:8080/",
          "height": 35
        }
      },
      "source": [
        "y_train[:10]"
      ],
      "execution_count": 7,
      "outputs": [
        {
          "output_type": "execute_result",
          "data": {
            "text/plain": [
              "array([5, 0, 4, 1, 9, 2, 1, 3, 1, 4], dtype=uint8)"
            ]
          },
          "metadata": {
            "tags": []
          },
          "execution_count": 7
        }
      ]
    },
    {
      "cell_type": "code",
      "metadata": {
        "id": "W6oHJ9nqApUV"
      },
      "source": [
        "# Convert 1-dimensional class arrays to 10-dimensional class matrices\n",
        "Y_train = np_utils.to_categorical(y_train, 10)\n",
        "Y_test = np_utils.to_categorical(y_test, 10)"
      ],
      "execution_count": 8,
      "outputs": []
    },
    {
      "cell_type": "code",
      "metadata": {
        "id": "hAfxc3bTA1Qq"
      },
      "source": [
        "from keras.layers import Activation\n",
        "model = Sequential()\n",
        "model.add(Convolution2D(128, (3, 3), activation = 'relu', input_shape = (28, 28, 1)))\n",
        "model.add(MaxPooling2D(2, 2))\n",
        "#model.add(Dropout(0.5)))\n",
        "model.add(MaxPooling2D(2, 2))\n",
        "#model.add(Dropout(0.5))\n",
        "model.add(Flatten())\n",
        "model.add(Dense(64, activation = 'relu'))\n",
        "#model.add(Dropout(0.5))\n",
        "model.add(Dense(10, activation = 'softmax'))"
      ],
      "execution_count": 30,
      "outputs": []
    },
    {
      "cell_type": "code",
      "metadata": {
        "id": "UcEsxc_mA4Oe",
        "outputId": "3face7cd-c1f0-4d0a-e278-d01c0413274e",
        "colab": {
          "base_uri": "https://localhost:8080/",
          "height": 384
        }
      },
      "source": [
        "model.summary()"
      ],
      "execution_count": 31,
      "outputs": [
        {
          "output_type": "stream",
          "text": [
            "Model: \"sequential_7\"\n",
            "_________________________________________________________________\n",
            "Layer (type)                 Output Shape              Param #   \n",
            "=================================================================\n",
            "conv2d_24 (Conv2D)           (None, 26, 26, 128)       1280      \n",
            "_________________________________________________________________\n",
            "max_pooling2d_12 (MaxPooling (None, 13, 13, 128)       0         \n",
            "_________________________________________________________________\n",
            "max_pooling2d_13 (MaxPooling (None, 6, 6, 128)         0         \n",
            "_________________________________________________________________\n",
            "flatten_4 (Flatten)          (None, 4608)              0         \n",
            "_________________________________________________________________\n",
            "dense_8 (Dense)              (None, 64)                294976    \n",
            "_________________________________________________________________\n",
            "dense_9 (Dense)              (None, 10)                650       \n",
            "=================================================================\n",
            "Total params: 296,906\n",
            "Trainable params: 296,906\n",
            "Non-trainable params: 0\n",
            "_________________________________________________________________\n"
          ],
          "name": "stdout"
        }
      ]
    },
    {
      "cell_type": "code",
      "metadata": {
        "id": "jvI9YIlYA-SU"
      },
      "source": [
        "model.compile(loss='categorical_crossentropy',\n",
        "             optimizer='adam',\n",
        "             metrics=['accuracy'])"
      ],
      "execution_count": 32,
      "outputs": []
    },
    {
      "cell_type": "code",
      "metadata": {
        "id": "XQ3zH2TpBBi5",
        "outputId": "bc9ee14f-8d37-44b2-e9f6-ee225ba7cb9c",
        "colab": {
          "base_uri": "https://localhost:8080/",
          "height": 770
        }
      },
      "source": [
        "model.fit(X_train, Y_train,batch_size=120, epochs=20, verbose=2)"
      ],
      "execution_count": 33,
      "outputs": [
        {
          "output_type": "stream",
          "text": [
            "Epoch 1/20\n",
            "500/500 - 49s - loss: 0.2663 - accuracy: 0.9236\n",
            "Epoch 2/20\n",
            "500/500 - 49s - loss: 0.0842 - accuracy: 0.9744\n",
            "Epoch 3/20\n",
            "500/500 - 48s - loss: 0.0654 - accuracy: 0.9800\n",
            "Epoch 4/20\n",
            "500/500 - 48s - loss: 0.0519 - accuracy: 0.9837\n",
            "Epoch 5/20\n",
            "500/500 - 48s - loss: 0.0448 - accuracy: 0.9863\n",
            "Epoch 6/20\n",
            "500/500 - 48s - loss: 0.0383 - accuracy: 0.9883\n",
            "Epoch 7/20\n",
            "500/500 - 48s - loss: 0.0342 - accuracy: 0.9894\n",
            "Epoch 8/20\n",
            "500/500 - 48s - loss: 0.0289 - accuracy: 0.9914\n",
            "Epoch 9/20\n",
            "500/500 - 48s - loss: 0.0265 - accuracy: 0.9916\n",
            "Epoch 10/20\n",
            "500/500 - 47s - loss: 0.0232 - accuracy: 0.9927\n",
            "Epoch 11/20\n",
            "500/500 - 48s - loss: 0.0201 - accuracy: 0.9936\n",
            "Epoch 12/20\n",
            "500/500 - 47s - loss: 0.0167 - accuracy: 0.9952\n",
            "Epoch 13/20\n",
            "500/500 - 47s - loss: 0.0149 - accuracy: 0.9955\n",
            "Epoch 14/20\n",
            "500/500 - 48s - loss: 0.0136 - accuracy: 0.9959\n",
            "Epoch 15/20\n",
            "500/500 - 48s - loss: 0.0113 - accuracy: 0.9964\n",
            "Epoch 16/20\n",
            "500/500 - 48s - loss: 0.0104 - accuracy: 0.9971\n",
            "Epoch 17/20\n",
            "500/500 - 47s - loss: 0.0077 - accuracy: 0.9979\n",
            "Epoch 18/20\n",
            "500/500 - 48s - loss: 0.0077 - accuracy: 0.9976\n",
            "Epoch 19/20\n",
            "500/500 - 48s - loss: 0.0080 - accuracy: 0.9974\n",
            "Epoch 20/20\n",
            "500/500 - 48s - loss: 0.0045 - accuracy: 0.9988\n"
          ],
          "name": "stdout"
        },
        {
          "output_type": "execute_result",
          "data": {
            "text/plain": [
              "<tensorflow.python.keras.callbacks.History at 0x7fd5d0902c88>"
            ]
          },
          "metadata": {
            "tags": []
          },
          "execution_count": 33
        }
      ]
    },
    {
      "cell_type": "code",
      "metadata": {
        "id": "CQbOYnDlBEdg"
      },
      "source": [
        "original_score = model.evaluate(X_test, Y_test, verbose=0)"
      ],
      "execution_count": 37,
      "outputs": []
    },
    {
      "cell_type": "code",
      "metadata": {
        "id": "4URv5FCFBMCW",
        "outputId": "a385ed06-c93d-4e2e-c512-24ba7c06a90e",
        "colab": {
          "base_uri": "https://localhost:8080/",
          "height": 35
        }
      },
      "source": [
        "print(original_score[1])"
      ],
      "execution_count": 40,
      "outputs": [
        {
          "output_type": "stream",
          "text": [
            "0.9896000027656555\n"
          ],
          "name": "stdout"
        }
      ]
    },
    {
      "cell_type": "code",
      "metadata": {
        "id": "PK5vzq9yBS1F"
      },
      "source": [
        "tf.keras.models.save_model(model, 'original_model.h5', include_optimizer=False)"
      ],
      "execution_count": 44,
      "outputs": []
    },
    {
      "cell_type": "markdown",
      "metadata": {
        "id": "LBPXJYzagRCx"
      },
      "source": [
        "**Performing Model Prunning**"
      ]
    },
    {
      "cell_type": "code",
      "metadata": {
        "id": "fTbtlgRJW9v7"
      },
      "source": [
        "! pip install -q tensorflow-model-optimization"
      ],
      "execution_count": 61,
      "outputs": []
    },
    {
      "cell_type": "code",
      "metadata": {
        "id": "ZMAllv7rBUxp",
        "outputId": "35923837-a172-4759-d7fd-704c1879b955",
        "colab": {
          "base_uri": "https://localhost:8080/",
          "height": 384
        }
      },
      "source": [
        "import tensorflow_model_optimization as tfmot\n",
        "\n",
        "prune_low_magnitude = tfmot.sparsity.keras.prune_low_magnitude\n",
        "\n",
        "# Compute end step to finish pruning after 2 epochs.\n",
        "batch_size = 128\n",
        "epochs = 10\n",
        "validation_split = 0.1 # 10% of training set will be used for validation set. \n",
        "\n",
        "num_images = X_train.shape[0] * (1 - validation_split)\n",
        "end_step = np.ceil(num_images / batch_size).astype(np.int32) * epochs\n",
        "\n",
        "# Define model for pruning.\n",
        "pruning_params = {\n",
        "      'pruning_schedule': tfmot.sparsity.keras.PolynomialDecay(initial_sparsity=0.50,\n",
        "                                                               final_sparsity=0.80,\n",
        "                                                               begin_step=0,\n",
        "                                                               end_step=end_step)\n",
        "}\n",
        "\n",
        "model_for_pruning = prune_low_magnitude(model, **pruning_params)\n",
        "\n",
        "# `prune_low_magnitude` requires a recompile.\n",
        "model_for_pruning.compile(optimizer='adam',\n",
        "              loss='categorical_crossentropy',\n",
        "              metrics=['accuracy'])\n",
        "\n",
        "model_for_pruning.summary()"
      ],
      "execution_count": 62,
      "outputs": [
        {
          "output_type": "stream",
          "text": [
            "Model: \"sequential_7\"\n",
            "_________________________________________________________________\n",
            "Layer (type)                 Output Shape              Param #   \n",
            "=================================================================\n",
            "prune_low_magnitude_conv2d_2 (None, 26, 26, 128)       2434      \n",
            "_________________________________________________________________\n",
            "prune_low_magnitude_max_pool (None, 13, 13, 128)       1         \n",
            "_________________________________________________________________\n",
            "prune_low_magnitude_max_pool (None, 6, 6, 128)         1         \n",
            "_________________________________________________________________\n",
            "prune_low_magnitude_flatten_ (None, 4608)              1         \n",
            "_________________________________________________________________\n",
            "prune_low_magnitude_dense_8  (None, 64)                589890    \n",
            "_________________________________________________________________\n",
            "prune_low_magnitude_dense_9  (None, 10)                1292      \n",
            "=================================================================\n",
            "Total params: 593,619\n",
            "Trainable params: 296,906\n",
            "Non-trainable params: 296,713\n",
            "_________________________________________________________________\n"
          ],
          "name": "stdout"
        }
      ]
    },
    {
      "cell_type": "code",
      "metadata": {
        "id": "cg7bF0HmXDSZ",
        "outputId": "4a47a420-dde8-486f-de16-99be6283f0cb",
        "colab": {
          "base_uri": "https://localhost:8080/",
          "height": 423
        }
      },
      "source": [
        "import tempfile\n",
        "logdir = tempfile.mkdtemp()\n",
        "\n",
        "callbacks = [\n",
        "  tfmot.sparsity.keras.UpdatePruningStep(),\n",
        "  tfmot.sparsity.keras.PruningSummaries(log_dir=logdir),\n",
        "]\n",
        "  \n",
        "model_for_pruning.fit(X_train, Y_train,\n",
        "                  batch_size=batch_size, epochs=epochs, validation_split=validation_split,\n",
        "                  callbacks=callbacks)"
      ],
      "execution_count": 63,
      "outputs": [
        {
          "output_type": "stream",
          "text": [
            "Epoch 1/10\n",
            "422/422 [==============================] - 51s 120ms/step - loss: 0.0076 - accuracy: 0.9977 - val_loss: 0.0234 - val_accuracy: 0.9930\n",
            "Epoch 2/10\n",
            "422/422 [==============================] - 47s 111ms/step - loss: 0.0033 - accuracy: 0.9993 - val_loss: 0.0214 - val_accuracy: 0.9940\n",
            "Epoch 3/10\n",
            "422/422 [==============================] - 47s 111ms/step - loss: 0.0022 - accuracy: 0.9997 - val_loss: 0.0230 - val_accuracy: 0.9940\n",
            "Epoch 4/10\n",
            "422/422 [==============================] - 47s 111ms/step - loss: 0.0013 - accuracy: 0.9999 - val_loss: 0.0223 - val_accuracy: 0.9938\n",
            "Epoch 5/10\n",
            "422/422 [==============================] - 47s 111ms/step - loss: 9.9138e-04 - accuracy: 1.0000 - val_loss: 0.0219 - val_accuracy: 0.9942\n",
            "Epoch 6/10\n",
            "422/422 [==============================] - 47s 112ms/step - loss: 8.8048e-04 - accuracy: 1.0000 - val_loss: 0.0222 - val_accuracy: 0.9938\n",
            "Epoch 7/10\n",
            "422/422 [==============================] - 47s 111ms/step - loss: 0.0011 - accuracy: 0.9999 - val_loss: 0.0218 - val_accuracy: 0.9943\n",
            "Epoch 8/10\n",
            "422/422 [==============================] - 46s 110ms/step - loss: 8.2877e-04 - accuracy: 1.0000 - val_loss: 0.0216 - val_accuracy: 0.9945\n",
            "Epoch 9/10\n",
            "422/422 [==============================] - 47s 111ms/step - loss: 9.1716e-04 - accuracy: 0.9999 - val_loss: 0.0236 - val_accuracy: 0.9938\n",
            "Epoch 10/10\n",
            "422/422 [==============================] - 46s 110ms/step - loss: 6.1189e-04 - accuracy: 1.0000 - val_loss: 0.0247 - val_accuracy: 0.9938\n"
          ],
          "name": "stdout"
        },
        {
          "output_type": "execute_result",
          "data": {
            "text/plain": [
              "<tensorflow.python.keras.callbacks.History at 0x7fd5d2b43fd0>"
            ]
          },
          "metadata": {
            "tags": []
          },
          "execution_count": 63
        }
      ]
    },
    {
      "cell_type": "code",
      "metadata": {
        "id": "X4vy00nwgcuv"
      },
      "source": [
        ""
      ],
      "execution_count": null,
      "outputs": []
    },
    {
      "cell_type": "markdown",
      "metadata": {
        "id": "EfDT_aysgdeu"
      },
      "source": [
        "Comparison of Accuracies"
      ]
    },
    {
      "cell_type": "code",
      "metadata": {
        "id": "2MZ1vCLIYboM",
        "outputId": "7cff26ee-e5c8-4963-ef01-f08c009fef79",
        "colab": {
          "base_uri": "https://localhost:8080/",
          "height": 54
        }
      },
      "source": [
        "model_for_pruning_score = model_for_pruning.evaluate(\n",
        "   X_test, Y_test, verbose=0)\n",
        "\n",
        "print('Baseline test accuracy:', original_score[1]) \n",
        "print('Pruned test accuracy:', model_for_pruning_score[1])"
      ],
      "execution_count": 64,
      "outputs": [
        {
          "output_type": "stream",
          "text": [
            "Baseline test accuracy: 0.9896000027656555\n",
            "Pruned test accuracy: 0.9869999885559082\n"
          ],
          "name": "stdout"
        }
      ]
    },
    {
      "cell_type": "markdown",
      "metadata": {
        "id": "Q9VAu7XKgOph"
      },
      "source": [
        "Create 3x smaller models from pruning"
      ]
    },
    {
      "cell_type": "code",
      "metadata": {
        "id": "SvYT9lgOa0P3"
      },
      "source": [
        "model_for_export = tfmot.sparsity.keras.strip_pruning(model_for_pruning)\n",
        "tf.keras.models.save_model(model_for_export, 'pruned_model.h5', include_optimizer=False)"
      ],
      "execution_count": 66,
      "outputs": []
    },
    {
      "cell_type": "markdown",
      "metadata": {
        "id": "TRNBV02vhLnd"
      },
      "source": [
        "using TFLite for model compression"
      ]
    },
    {
      "cell_type": "code",
      "metadata": {
        "id": "Rqu1-_LqhHHo",
        "outputId": "faad8216-4f31-4265-ad7e-d9f040521368",
        "colab": {
          "base_uri": "https://localhost:8080/",
          "height": 184
        }
      },
      "source": [
        "converter = tf.lite.TFLiteConverter.from_keras_model(model_for_export)\n",
        "pruned_tflite_model = converter.convert()\n",
        "\n",
        "_, pruned_tflite_file = tempfile.mkstemp('.tflite')\n",
        "\n",
        "with open(pruned_tflite_file, 'wb') as f:\n",
        "  f.write(pruned_tflite_model)\n",
        "\n",
        "print('Saved pruned TFLite model to:', pruned_tflite_file)"
      ],
      "execution_count": 67,
      "outputs": [
        {
          "output_type": "stream",
          "text": [
            "WARNING:tensorflow:From /usr/local/lib/python3.6/dist-packages/tensorflow/python/training/tracking/tracking.py:111: Model.state_updates (from tensorflow.python.keras.engine.training) is deprecated and will be removed in a future version.\n",
            "Instructions for updating:\n",
            "This property should not be used in TensorFlow 2.0, as updates are applied automatically.\n",
            "WARNING:tensorflow:From /usr/local/lib/python3.6/dist-packages/tensorflow/python/training/tracking/tracking.py:111: Layer.updates (from tensorflow.python.keras.engine.base_layer) is deprecated and will be removed in a future version.\n",
            "Instructions for updating:\n",
            "This property should not be used in TensorFlow 2.0, as updates are applied automatically.\n",
            "INFO:tensorflow:Assets written to: /tmp/tmpfu2vn1jr/assets\n",
            "Saved pruned TFLite model to: /tmp/tmppk4qvi5i.tflite\n"
          ],
          "name": "stdout"
        }
      ]
    },
    {
      "cell_type": "markdown",
      "metadata": {
        "id": "wc49lMlMhym7"
      },
      "source": [
        "function for calculating the gzip size"
      ]
    },
    {
      "cell_type": "code",
      "metadata": {
        "id": "B6TADN1Ehq1K"
      },
      "source": [
        "def get_gzipped_model_size(file):\n",
        "  # Returns size of gzipped model, in bytes.\n",
        "  import os\n",
        "  import zipfile\n",
        "\n",
        "  _, zipped_file = tempfile.mkstemp('.zip')\n",
        "  with zipfile.ZipFile(zipped_file, 'w', compression=zipfile.ZIP_DEFLATED) as f:\n",
        "    f.write(file)\n",
        "\n",
        "  return os.path.getsize(zipped_file)"
      ],
      "execution_count": 69,
      "outputs": []
    },
    {
      "cell_type": "code",
      "metadata": {
        "id": "Oo-by81kh473",
        "outputId": "41d51fd6-f748-45b3-c2cc-5c61ef7d692d",
        "colab": {
          "base_uri": "https://localhost:8080/",
          "height": 72
        }
      },
      "source": [
        "print(\"Size of gzipped baseline Keras model: %.2f bytes\" % (get_gzipped_model_size('/content/original_model.h5')))\n",
        "print(\"Size of gzipped pruned Keras model: %.2f bytes\" % (get_gzipped_model_size('/content/pruned_model.h5')))\n",
        "print(\"Size of gzipped pruned TFlite model: %.2f bytes\" % (get_gzipped_model_size(pruned_tflite_file)))"
      ],
      "execution_count": 72,
      "outputs": [
        {
          "output_type": "stream",
          "text": [
            "Size of gzipped baseline Keras model: 1112740.00 bytes\n",
            "Size of gzipped pruned Keras model: 356274.00 bytes\n",
            "Size of gzipped pruned TFlite model: 347690.00 bytes\n"
          ],
          "name": "stdout"
        }
      ]
    },
    {
      "cell_type": "code",
      "metadata": {
        "id": "KZV3rMm_iAze"
      },
      "source": [
        ""
      ],
      "execution_count": null,
      "outputs": []
    }
  ]
}